{
 "cells": [
  {
   "cell_type": "code",
   "execution_count": 1,
   "metadata": {},
   "outputs": [],
   "source": [
    "import pandas as pd\n",
    "import requests\n",
    "from bs4 import BeautifulSoup"
   ]
  },
  {
   "cell_type": "markdown",
   "metadata": {},
   "source": [
    "## <font color='blue'>Segmenting and Clustering Neighborhoods in Toronto</font>"
   ]
  },
  {
   "cell_type": "markdown",
   "metadata": {},
   "source": [
    "### <font color='blue'>Scraping Toronto neighborhood data from Wikipedia</font>"
   ]
  },
  {
   "cell_type": "code",
   "execution_count": 2,
   "metadata": {},
   "outputs": [
    {
     "name": "stdout",
     "output_type": "stream",
     "text": [
      "[{\"Postal Code\":\"M1A\",\"Borough\":\"Not assigned\",\"Neighborhood\":null},{\"Postal Code\":\"M2A\",\"Borough\":\"Not assigned\",\"Neighborhood\":null},{\"Postal Code\":\"M3A\",\"Borough\":\"North York\",\"Neighborhood\":\"Parkwoods\"},{\"Postal Code\":\"M4A\",\"Borough\":\"North York\",\"Neighborhood\":\"Victoria Village\"},{\"Postal Code\":\"M5A\",\"Borough\":\"Downtown Toronto\",\"Neighborhood\":\"Regent Park, Harbourfront\"},{\"Postal Code\":\"M6A\",\"Borough\":\"North York\",\"Neighborhood\":\"Lawrence Manor, Lawrence Heights\"},{\"Postal Code\":\"M7A\",\"Borough\":\"Downtown Toronto\",\"Neighborhood\":\"Queen's Park, Ontario Provincial Government\"},{\"Postal Code\":\"M8A\",\"Borough\":\"Not assigned\",\"Neighborhood\":null},{\"Postal Code\":\"M9A\",\"Borough\":\"Etobicoke\",\"Neighborhood\":\"Islington Avenue\"},{\"Postal Code\":\"M1B\",\"Borough\":\"Scarborough\",\"Neighborhood\":\"Malvern, Rouge\"},{\"Postal Code\":\"M2B\",\"Borough\":\"Not assigned\",\"Neighborhood\":null},{\"Postal Code\":\"M3B\",\"Borough\":\"North York\",\"Neighborhood\":\"Don Mills\"},{\"Postal Code\":\"M4B\",\"Borough\":\"East York\",\"Neighborhood\":\"Parkview Hill, Woodbine Gardens\"},{\"Postal Code\":\"M5B\",\"Borough\":\"Downtown Toronto\",\"Neighborhood\":\"Garden District, Ryerson\"},{\"Postal Code\":\"M6B\",\"Borough\":\"North York\",\"Neighborhood\":\"Glencairn\"},{\"Postal Code\":\"M7B\",\"Borough\":\"Not assigned\",\"Neighborhood\":null},{\"Postal Code\":\"M8B\",\"Borough\":\"Not assigned\",\"Neighborhood\":null},{\"Postal Code\":\"M9B\",\"Borough\":\"Etobicoke\",\"Neighborhood\":\"West Deane Park, Princess Gardens, Martin Grove, Islington, Cloverdale\"},{\"Postal Code\":\"M1C\",\"Borough\":\"Scarborough\",\"Neighborhood\":\"Rouge Hill, Port Union, Highland Creek\"},{\"Postal Code\":\"M2C\",\"Borough\":\"Not assigned\",\"Neighborhood\":null},{\"Postal Code\":\"M3C\",\"Borough\":\"North York\",\"Neighborhood\":\"Don Mills\"},{\"Postal Code\":\"M4C\",\"Borough\":\"East York\",\"Neighborhood\":\"Woodbine Heights\"},{\"Postal Code\":\"M5C\",\"Borough\":\"Downtown Toronto\",\"Neighborhood\":\"St. James Town\"},{\"Postal Code\":\"M6C\",\"Borough\":\"York\",\"Neighborhood\":\"Humewood-Cedarvale\"},{\"Postal Code\":\"M7C\",\"Borough\":\"Not assigned\",\"Neighborhood\":null},{\"Postal Code\":\"M8C\",\"Borough\":\"Not assigned\",\"Neighborhood\":null},{\"Postal Code\":\"M9C\",\"Borough\":\"Etobicoke\",\"Neighborhood\":\"Eringate, Bloordale Gardens, Old Burnhamthorpe, Markland Wood\"},{\"Postal Code\":\"M1E\",\"Borough\":\"Scarborough\",\"Neighborhood\":\"Guildwood, Morningside, West Hill\"},{\"Postal Code\":\"M2E\",\"Borough\":\"Not assigned\",\"Neighborhood\":null},{\"Postal Code\":\"M3E\",\"Borough\":\"Not assigned\",\"Neighborhood\":null},{\"Postal Code\":\"M4E\",\"Borough\":\"East Toronto\",\"Neighborhood\":\"The Beaches\"},{\"Postal Code\":\"M5E\",\"Borough\":\"Downtown Toronto\",\"Neighborhood\":\"Berczy Park\"},{\"Postal Code\":\"M6E\",\"Borough\":\"York\",\"Neighborhood\":\"Caledonia-Fairbanks\"},{\"Postal Code\":\"M7E\",\"Borough\":\"Not assigned\",\"Neighborhood\":null},{\"Postal Code\":\"M8E\",\"Borough\":\"Not assigned\",\"Neighborhood\":null},{\"Postal Code\":\"M9E\",\"Borough\":\"Not assigned\",\"Neighborhood\":null},{\"Postal Code\":\"M1G\",\"Borough\":\"Scarborough\",\"Neighborhood\":\"Woburn\"},{\"Postal Code\":\"M2G\",\"Borough\":\"Not assigned\",\"Neighborhood\":null},{\"Postal Code\":\"M3G\",\"Borough\":\"Not assigned\",\"Neighborhood\":null},{\"Postal Code\":\"M4G\",\"Borough\":\"East York\",\"Neighborhood\":\"Leaside\"},{\"Postal Code\":\"M5G\",\"Borough\":\"Downtown Toronto\",\"Neighborhood\":\"Central Bay Street\"},{\"Postal Code\":\"M6G\",\"Borough\":\"Downtown Toronto\",\"Neighborhood\":\"Christie\"},{\"Postal Code\":\"M7G\",\"Borough\":\"Not assigned\",\"Neighborhood\":null},{\"Postal Code\":\"M8G\",\"Borough\":\"Not assigned\",\"Neighborhood\":null},{\"Postal Code\":\"M9G\",\"Borough\":\"Not assigned\",\"Neighborhood\":null},{\"Postal Code\":\"M1H\",\"Borough\":\"Scarborough\",\"Neighborhood\":\"Cedarbrae\"},{\"Postal Code\":\"M2H\",\"Borough\":\"North York\",\"Neighborhood\":\"Hillcrest Village\"},{\"Postal Code\":\"M3H\",\"Borough\":\"North York\",\"Neighborhood\":\"Bathurst Manor, Wilson Heights, Downsview North\"},{\"Postal Code\":\"M4H\",\"Borough\":\"East York\",\"Neighborhood\":\"Thorncliffe Park\"},{\"Postal Code\":\"M5H\",\"Borough\":\"Downtown Toronto\",\"Neighborhood\":\"Richmond, Adelaide, King\"},{\"Postal Code\":\"M6H\",\"Borough\":\"West Toronto\",\"Neighborhood\":\"Dufferin, Dovercourt Village\"},{\"Postal Code\":\"M7H\",\"Borough\":\"Not assigned\",\"Neighborhood\":null},{\"Postal Code\":\"M8H\",\"Borough\":\"Not assigned\",\"Neighborhood\":null},{\"Postal Code\":\"M9H\",\"Borough\":\"Not assigned\",\"Neighborhood\":null},{\"Postal Code\":\"M1J\",\"Borough\":\"Scarborough\",\"Neighborhood\":\"Scarborough Village\"},{\"Postal Code\":\"M2J\",\"Borough\":\"North York\",\"Neighborhood\":\"Fairview, Henry Farm, Oriole\"},{\"Postal Code\":\"M3J\",\"Borough\":\"North York\",\"Neighborhood\":\"Northwood Park, York University\"},{\"Postal Code\":\"M4J\",\"Borough\":\"East York\",\"Neighborhood\":\"East Toronto\"},{\"Postal Code\":\"M5J\",\"Borough\":\"Downtown Toronto\",\"Neighborhood\":\"Harbourfront East, Union Station, Toronto Islands\"},{\"Postal Code\":\"M6J\",\"Borough\":\"West Toronto\",\"Neighborhood\":\"Little Portugal, Trinity\"},{\"Postal Code\":\"M7J\",\"Borough\":\"Not assigned\",\"Neighborhood\":null},{\"Postal Code\":\"M8J\",\"Borough\":\"Not assigned\",\"Neighborhood\":null},{\"Postal Code\":\"M9J\",\"Borough\":\"Not assigned\",\"Neighborhood\":null},{\"Postal Code\":\"M1K\",\"Borough\":\"Scarborough\",\"Neighborhood\":\"Kennedy Park, Ionview, East Birchmount Park\"},{\"Postal Code\":\"M2K\",\"Borough\":\"North York\",\"Neighborhood\":\"Bayview Village\"},{\"Postal Code\":\"M3K\",\"Borough\":\"North York\",\"Neighborhood\":\"Downsview\"},{\"Postal Code\":\"M4K\",\"Borough\":\"East Toronto\",\"Neighborhood\":\"The Danforth West, Riverdale\"},{\"Postal Code\":\"M5K\",\"Borough\":\"Downtown Toronto\",\"Neighborhood\":\"Toronto Dominion Centre, Design Exchange\"},{\"Postal Code\":\"M6K\",\"Borough\":\"West Toronto\",\"Neighborhood\":\"Brockton, Parkdale Village, Exhibition Place\"},{\"Postal Code\":\"M7K\",\"Borough\":\"Not assigned\",\"Neighborhood\":null},{\"Postal Code\":\"M8K\",\"Borough\":\"Not assigned\",\"Neighborhood\":null},{\"Postal Code\":\"M9K\",\"Borough\":\"Not assigned\",\"Neighborhood\":null},{\"Postal Code\":\"M1L\",\"Borough\":\"Scarborough\",\"Neighborhood\":\"Golden Mile, Clairlea, Oakridge\"},{\"Postal Code\":\"M2L\",\"Borough\":\"North York\",\"Neighborhood\":\"York Mills, Silver Hills\"},{\"Postal Code\":\"M3L\",\"Borough\":\"North York\",\"Neighborhood\":\"Downsview\"},{\"Postal Code\":\"M4L\",\"Borough\":\"East Toronto\",\"Neighborhood\":\"India Bazaar, The Beaches West\"},{\"Postal Code\":\"M5L\",\"Borough\":\"Downtown Toronto\",\"Neighborhood\":\"Commerce Court, Victoria Hotel\"},{\"Postal Code\":\"M6L\",\"Borough\":\"North York\",\"Neighborhood\":\"North Park, Maple Leaf Park, Upwood Park\"},{\"Postal Code\":\"M7L\",\"Borough\":\"Not assigned\",\"Neighborhood\":null},{\"Postal Code\":\"M8L\",\"Borough\":\"Not assigned\",\"Neighborhood\":null},{\"Postal Code\":\"M9L\",\"Borough\":\"North York\",\"Neighborhood\":\"Humber Summit\"},{\"Postal Code\":\"M1M\",\"Borough\":\"Scarborough\",\"Neighborhood\":\"Cliffside, Cliffcrest, Scarborough Village West\"},{\"Postal Code\":\"M2M\",\"Borough\":\"North York\",\"Neighborhood\":\"Willowdale, Newtonbrook\"},{\"Postal Code\":\"M3M\",\"Borough\":\"North York\",\"Neighborhood\":\"Downsview\"},{\"Postal Code\":\"M4M\",\"Borough\":\"East Toronto\",\"Neighborhood\":\"Studio District\"},{\"Postal Code\":\"M5M\",\"Borough\":\"North York\",\"Neighborhood\":\"Bedford Park, Lawrence Manor East\"},{\"Postal Code\":\"M6M\",\"Borough\":\"York\",\"Neighborhood\":\"Del Ray, Mount Dennis, Keelsdale and Silverthorn\"},{\"Postal Code\":\"M7M\",\"Borough\":\"Not assigned\",\"Neighborhood\":null},{\"Postal Code\":\"M8M\",\"Borough\":\"Not assigned\",\"Neighborhood\":null},{\"Postal Code\":\"M9M\",\"Borough\":\"North York\",\"Neighborhood\":\"Humberlea, Emery\"},{\"Postal Code\":\"M1N\",\"Borough\":\"Scarborough\",\"Neighborhood\":\"Birch Cliff, Cliffside West\"},{\"Postal Code\":\"M2N\",\"Borough\":\"North York\",\"Neighborhood\":\"Willowdale\"},{\"Postal Code\":\"M3N\",\"Borough\":\"North York\",\"Neighborhood\":\"Downsview\"},{\"Postal Code\":\"M4N\",\"Borough\":\"Central Toronto\",\"Neighborhood\":\"Lawrence Park\"},{\"Postal Code\":\"M5N\",\"Borough\":\"Central Toronto\",\"Neighborhood\":\"Roselawn\"},{\"Postal Code\":\"M6N\",\"Borough\":\"York\",\"Neighborhood\":\"Runnymede, The Junction North\"},{\"Postal Code\":\"M7N\",\"Borough\":\"Not assigned\",\"Neighborhood\":null},{\"Postal Code\":\"M8N\",\"Borough\":\"Not assigned\",\"Neighborhood\":null},{\"Postal Code\":\"M9N\",\"Borough\":\"York\",\"Neighborhood\":\"Weston\"},{\"Postal Code\":\"M1P\",\"Borough\":\"Scarborough\",\"Neighborhood\":\"Dorset Park, Wexford Heights, Scarborough Town Centre\"},{\"Postal Code\":\"M2P\",\"Borough\":\"North York\",\"Neighborhood\":\"York Mills West\"},{\"Postal Code\":\"M3P\",\"Borough\":\"Not assigned\",\"Neighborhood\":null},{\"Postal Code\":\"M4P\",\"Borough\":\"Central Toronto\",\"Neighborhood\":\"Davisville North\"},{\"Postal Code\":\"M5P\",\"Borough\":\"Central Toronto\",\"Neighborhood\":\"Forest Hill North & West\"},{\"Postal Code\":\"M6P\",\"Borough\":\"West Toronto\",\"Neighborhood\":\"High Park, The Junction South\"},{\"Postal Code\":\"M7P\",\"Borough\":\"Not assigned\",\"Neighborhood\":null},{\"Postal Code\":\"M8P\",\"Borough\":\"Not assigned\",\"Neighborhood\":null},{\"Postal Code\":\"M9P\",\"Borough\":\"Etobicoke\",\"Neighborhood\":\"Westmount\"},{\"Postal Code\":\"M1R\",\"Borough\":\"Scarborough\",\"Neighborhood\":\"Wexford, Maryvale\"},{\"Postal Code\":\"M2R\",\"Borough\":\"North York\",\"Neighborhood\":\"Willowdale\"},{\"Postal Code\":\"M3R\",\"Borough\":\"Not assigned\",\"Neighborhood\":null},{\"Postal Code\":\"M4R\",\"Borough\":\"Central Toronto\",\"Neighborhood\":\"North Toronto West\"},{\"Postal Code\":\"M5R\",\"Borough\":\"Central Toronto\",\"Neighborhood\":\"The Annex, North Midtown, Yorkville\"},{\"Postal Code\":\"M6R\",\"Borough\":\"West Toronto\",\"Neighborhood\":\"Parkdale, Roncesvalles\"},{\"Postal Code\":\"M7R\",\"Borough\":\"Mississauga\",\"Neighborhood\":\"Canada Post Gateway Processing Centre\"},{\"Postal Code\":\"M8R\",\"Borough\":\"Not assigned\",\"Neighborhood\":null},{\"Postal Code\":\"M9R\",\"Borough\":\"Etobicoke\",\"Neighborhood\":\"Kingsview Village, St. Phillips, Martin Grove Gardens, Richview Gardens\"},{\"Postal Code\":\"M1S\",\"Borough\":\"Scarborough\",\"Neighborhood\":\"Agincourt\"},{\"Postal Code\":\"M2S\",\"Borough\":\"Not assigned\",\"Neighborhood\":null},{\"Postal Code\":\"M3S\",\"Borough\":\"Not assigned\",\"Neighborhood\":null},{\"Postal Code\":\"M4S\",\"Borough\":\"Central Toronto\",\"Neighborhood\":\"Davisville\"},{\"Postal Code\":\"M5S\",\"Borough\":\"Downtown Toronto\",\"Neighborhood\":\"University of Toronto, Harbord\"},{\"Postal Code\":\"M6S\",\"Borough\":\"West Toronto\",\"Neighborhood\":\"Runnymede, Swansea\"},{\"Postal Code\":\"M7S\",\"Borough\":\"Not assigned\",\"Neighborhood\":null},{\"Postal Code\":\"M8S\",\"Borough\":\"Not assigned\",\"Neighborhood\":null},{\"Postal Code\":\"M9S\",\"Borough\":\"Not assigned\",\"Neighborhood\":null},{\"Postal Code\":\"M1T\",\"Borough\":\"Scarborough\",\"Neighborhood\":\"Clarks Corners, Tam O'Shanter, Sullivan\"},{\"Postal Code\":\"M2T\",\"Borough\":\"Not assigned\",\"Neighborhood\":null},{\"Postal Code\":\"M3T\",\"Borough\":\"Not assigned\",\"Neighborhood\":null},{\"Postal Code\":\"M4T\",\"Borough\":\"Central Toronto\",\"Neighborhood\":\"Moore Park, Summerhill East\"},{\"Postal Code\":\"M5T\",\"Borough\":\"Downtown Toronto\",\"Neighborhood\":\"Kensington Market, Chinatown, Grange Park\"},{\"Postal Code\":\"M6T\",\"Borough\":\"Not assigned\",\"Neighborhood\":null},{\"Postal Code\":\"M7T\",\"Borough\":\"Not assigned\",\"Neighborhood\":null},{\"Postal Code\":\"M8T\",\"Borough\":\"Not assigned\",\"Neighborhood\":null},{\"Postal Code\":\"M9T\",\"Borough\":\"Not assigned\",\"Neighborhood\":null},{\"Postal Code\":\"M1V\",\"Borough\":\"Scarborough\",\"Neighborhood\":\"Milliken, Agincourt North, Steeles East, L'Amoreaux East\"},{\"Postal Code\":\"M2V\",\"Borough\":\"Not assigned\",\"Neighborhood\":null},{\"Postal Code\":\"M3V\",\"Borough\":\"Not assigned\",\"Neighborhood\":null},{\"Postal Code\":\"M4V\",\"Borough\":\"Central Toronto\",\"Neighborhood\":\"Summerhill West, Rathnelly, South Hill, Forest Hill SE, Deer Park\"},{\"Postal Code\":\"M5V\",\"Borough\":\"Downtown Toronto\",\"Neighborhood\":\"CN Tower, King and Spadina, Railway Lands, Harbourfront West, Bathurst Quay, South Niagara, Island airport\"},{\"Postal Code\":\"M6V\",\"Borough\":\"Not assigned\",\"Neighborhood\":null},{\"Postal Code\":\"M7V\",\"Borough\":\"Not assigned\",\"Neighborhood\":null},{\"Postal Code\":\"M8V\",\"Borough\":\"Etobicoke\",\"Neighborhood\":\"New Toronto, Mimico South, Humber Bay Shores\"},{\"Postal Code\":\"M9V\",\"Borough\":\"Etobicoke\",\"Neighborhood\":\"South Steeles, Silverstone, Humbergate, Jamestown, Mount Olive, Beaumond Heights, Thistletown, Albion Gardens\"},{\"Postal Code\":\"M1W\",\"Borough\":\"Scarborough\",\"Neighborhood\":\"Steeles West, L'Amoreaux West\"},{\"Postal Code\":\"M2W\",\"Borough\":\"Not assigned\",\"Neighborhood\":null},{\"Postal Code\":\"M3W\",\"Borough\":\"Not assigned\",\"Neighborhood\":null},{\"Postal Code\":\"M4W\",\"Borough\":\"Downtown Toronto\",\"Neighborhood\":\"Rosedale\"},{\"Postal Code\":\"M5W\",\"Borough\":\"Downtown Toronto\",\"Neighborhood\":\"Stn A PO Boxes\"},{\"Postal Code\":\"M6W\",\"Borough\":\"Not assigned\",\"Neighborhood\":null},{\"Postal Code\":\"M7W\",\"Borough\":\"Not assigned\",\"Neighborhood\":null},{\"Postal Code\":\"M8W\",\"Borough\":\"Etobicoke\",\"Neighborhood\":\"Alderwood, Long Branch\"},{\"Postal Code\":\"M9W\",\"Borough\":\"Etobicoke\",\"Neighborhood\":\"Northwest\"},{\"Postal Code\":\"M1X\",\"Borough\":\"Scarborough\",\"Neighborhood\":\"Upper Rouge\"},{\"Postal Code\":\"M2X\",\"Borough\":\"Not assigned\",\"Neighborhood\":null},{\"Postal Code\":\"M3X\",\"Borough\":\"Not assigned\",\"Neighborhood\":null},{\"Postal Code\":\"M4X\",\"Borough\":\"Downtown Toronto\",\"Neighborhood\":\"St. James Town, Cabbagetown\"},{\"Postal Code\":\"M5X\",\"Borough\":\"Downtown Toronto\",\"Neighborhood\":\"First Canadian Place, Underground city\"},{\"Postal Code\":\"M6X\",\"Borough\":\"Not assigned\",\"Neighborhood\":null},{\"Postal Code\":\"M7X\",\"Borough\":\"Not assigned\",\"Neighborhood\":null},{\"Postal Code\":\"M8X\",\"Borough\":\"Etobicoke\",\"Neighborhood\":\"The Kingsway, Montgomery Road, Old Mill North\"},{\"Postal Code\":\"M9X\",\"Borough\":\"Not assigned\",\"Neighborhood\":null},{\"Postal Code\":\"M1Y\",\"Borough\":\"Not assigned\",\"Neighborhood\":null},{\"Postal Code\":\"M2Y\",\"Borough\":\"Not assigned\",\"Neighborhood\":null},{\"Postal Code\":\"M3Y\",\"Borough\":\"Not assigned\",\"Neighborhood\":null},{\"Postal Code\":\"M4Y\",\"Borough\":\"Downtown Toronto\",\"Neighborhood\":\"Church and Wellesley\"},{\"Postal Code\":\"M5Y\",\"Borough\":\"Not assigned\",\"Neighborhood\":null},{\"Postal Code\":\"M6Y\",\"Borough\":\"Not assigned\",\"Neighborhood\":null},{\"Postal Code\":\"M7Y\",\"Borough\":\"East Toronto\",\"Neighborhood\":\"Business reply mail Processing Centre\"},{\"Postal Code\":\"M8Y\",\"Borough\":\"Etobicoke\",\"Neighborhood\":\"Old Mill South, King's Mill Park, Sunnylea, Humber Bay, Mimico NE, The Queensway East, Royal York South East, Kingsway Park South East\"},{\"Postal Code\":\"M9Y\",\"Borough\":\"Not assigned\",\"Neighborhood\":null},{\"Postal Code\":\"M1Z\",\"Borough\":\"Not assigned\",\"Neighborhood\":null},{\"Postal Code\":\"M2Z\",\"Borough\":\"Not assigned\",\"Neighborhood\":null},{\"Postal Code\":\"M3Z\",\"Borough\":\"Not assigned\",\"Neighborhood\":null},{\"Postal Code\":\"M4Z\",\"Borough\":\"Not assigned\",\"Neighborhood\":null},{\"Postal Code\":\"M5Z\",\"Borough\":\"Not assigned\",\"Neighborhood\":null},{\"Postal Code\":\"M6Z\",\"Borough\":\"Not assigned\",\"Neighborhood\":null},{\"Postal Code\":\"M7Z\",\"Borough\":\"Not assigned\",\"Neighborhood\":null},{\"Postal Code\":\"M8Z\",\"Borough\":\"Etobicoke\",\"Neighborhood\":\"Mimico NW, The Queensway West, South of Bloor, Kingsway Park South West, Royal York South West\"},{\"Postal Code\":\"M9Z\",\"Borough\":\"Not assigned\",\"Neighborhood\":null}]\n"
     ]
    },
    {
     "name": "stderr",
     "output_type": "stream",
     "text": [
      "/Users/e059440/anaconda3/lib/python3.7/site-packages/urllib3/connectionpool.py:847: InsecureRequestWarning: Unverified HTTPS request is being made. Adding certificate verification is strongly advised. See: https://urllib3.readthedocs.io/en/latest/advanced-usage.html#ssl-warnings\n",
      "  InsecureRequestWarning)\n"
     ]
    }
   ],
   "source": [
    "res = requests.get(\"http://en.wikipedia.org/wiki/List_of_postal_codes_of_Canada:_M\",verify = False)\n",
    "soup = BeautifulSoup(res.content,'lxml')\n",
    "table = soup.find_all('table')[0] \n",
    "df = pd.read_html(str(table))\n",
    "print(df[0].to_json(orient='records'))"
   ]
  },
  {
   "cell_type": "markdown",
   "metadata": {},
   "source": [
    "#### <font color='grey'>Scraped data contains Boroughs with Not Assigned values</font>"
   ]
  },
  {
   "cell_type": "code",
   "execution_count": 3,
   "metadata": {},
   "outputs": [
    {
     "data": {
      "text/html": [
       "<div>\n",
       "<style scoped>\n",
       "    .dataframe tbody tr th:only-of-type {\n",
       "        vertical-align: middle;\n",
       "    }\n",
       "\n",
       "    .dataframe tbody tr th {\n",
       "        vertical-align: top;\n",
       "    }\n",
       "\n",
       "    .dataframe thead th {\n",
       "        text-align: right;\n",
       "    }\n",
       "</style>\n",
       "<table border=\"1\" class=\"dataframe\">\n",
       "  <thead>\n",
       "    <tr style=\"text-align: right;\">\n",
       "      <th></th>\n",
       "      <th>Postal Code</th>\n",
       "      <th>Borough</th>\n",
       "      <th>Neighborhood</th>\n",
       "    </tr>\n",
       "  </thead>\n",
       "  <tbody>\n",
       "    <tr>\n",
       "      <th>0</th>\n",
       "      <td>M1A</td>\n",
       "      <td>Not assigned</td>\n",
       "      <td>NaN</td>\n",
       "    </tr>\n",
       "    <tr>\n",
       "      <th>1</th>\n",
       "      <td>M2A</td>\n",
       "      <td>Not assigned</td>\n",
       "      <td>NaN</td>\n",
       "    </tr>\n",
       "    <tr>\n",
       "      <th>2</th>\n",
       "      <td>M3A</td>\n",
       "      <td>North York</td>\n",
       "      <td>Parkwoods</td>\n",
       "    </tr>\n",
       "    <tr>\n",
       "      <th>3</th>\n",
       "      <td>M4A</td>\n",
       "      <td>North York</td>\n",
       "      <td>Victoria Village</td>\n",
       "    </tr>\n",
       "    <tr>\n",
       "      <th>4</th>\n",
       "      <td>M5A</td>\n",
       "      <td>Downtown Toronto</td>\n",
       "      <td>Regent Park, Harbourfront</td>\n",
       "    </tr>\n",
       "  </tbody>\n",
       "</table>\n",
       "</div>"
      ],
      "text/plain": [
       "  Postal Code           Borough               Neighborhood\n",
       "0         M1A      Not assigned                        NaN\n",
       "1         M2A      Not assigned                        NaN\n",
       "2         M3A        North York                  Parkwoods\n",
       "3         M4A        North York           Victoria Village\n",
       "4         M5A  Downtown Toronto  Regent Park, Harbourfront"
      ]
     },
     "execution_count": 3,
     "metadata": {},
     "output_type": "execute_result"
    }
   ],
   "source": [
    "data = df[0]\n",
    "data.head()"
   ]
  },
  {
   "cell_type": "markdown",
   "metadata": {},
   "source": [
    "##### <font color='grey'>Making sure there are no duplicate postal codes</font>"
   ]
  },
  {
   "cell_type": "code",
   "execution_count": 4,
   "metadata": {},
   "outputs": [
    {
     "name": "stdout",
     "output_type": "stream",
     "text": [
      "180 180\n"
     ]
    }
   ],
   "source": [
    "print(len(data['Postal Code'].unique()), len(data))"
   ]
  },
  {
   "cell_type": "code",
   "execution_count": 5,
   "metadata": {},
   "outputs": [
    {
     "data": {
      "text/html": [
       "<div>\n",
       "<style scoped>\n",
       "    .dataframe tbody tr th:only-of-type {\n",
       "        vertical-align: middle;\n",
       "    }\n",
       "\n",
       "    .dataframe tbody tr th {\n",
       "        vertical-align: top;\n",
       "    }\n",
       "\n",
       "    .dataframe thead th {\n",
       "        text-align: right;\n",
       "    }\n",
       "</style>\n",
       "<table border=\"1\" class=\"dataframe\">\n",
       "  <thead>\n",
       "    <tr style=\"text-align: right;\">\n",
       "      <th></th>\n",
       "      <th>Postal Code</th>\n",
       "      <th>Borough</th>\n",
       "      <th>Neighborhood</th>\n",
       "    </tr>\n",
       "  </thead>\n",
       "  <tbody>\n",
       "    <tr>\n",
       "      <th>0</th>\n",
       "      <td>M1B</td>\n",
       "      <td>Scarborough</td>\n",
       "      <td>Malvern, Rouge</td>\n",
       "    </tr>\n",
       "    <tr>\n",
       "      <th>1</th>\n",
       "      <td>M1C</td>\n",
       "      <td>Scarborough</td>\n",
       "      <td>Rouge Hill, Port Union, Highland Creek</td>\n",
       "    </tr>\n",
       "    <tr>\n",
       "      <th>2</th>\n",
       "      <td>M1E</td>\n",
       "      <td>Scarborough</td>\n",
       "      <td>Guildwood, Morningside, West Hill</td>\n",
       "    </tr>\n",
       "    <tr>\n",
       "      <th>3</th>\n",
       "      <td>M1G</td>\n",
       "      <td>Scarborough</td>\n",
       "      <td>Woburn</td>\n",
       "    </tr>\n",
       "    <tr>\n",
       "      <th>4</th>\n",
       "      <td>M1H</td>\n",
       "      <td>Scarborough</td>\n",
       "      <td>Cedarbrae</td>\n",
       "    </tr>\n",
       "  </tbody>\n",
       "</table>\n",
       "</div>"
      ],
      "text/plain": [
       "  Postal Code      Borough                            Neighborhood\n",
       "0         M1B  Scarborough                          Malvern, Rouge\n",
       "1         M1C  Scarborough  Rouge Hill, Port Union, Highland Creek\n",
       "2         M1E  Scarborough       Guildwood, Morningside, West Hill\n",
       "3         M1G  Scarborough                                  Woburn\n",
       "4         M1H  Scarborough                               Cedarbrae"
      ]
     },
     "execution_count": 5,
     "metadata": {},
     "output_type": "execute_result"
    }
   ],
   "source": [
    "data = data[data['Borough'] != 'Not assigned']\n",
    "data = data.sort_values(by=['Postal Code'], ascending=True).reset_index(drop=True)\n",
    "data.head()"
   ]
  },
  {
   "cell_type": "code",
   "execution_count": 6,
   "metadata": {},
   "outputs": [
    {
     "data": {
      "text/plain": [
       "(103, 3)"
      ]
     },
     "execution_count": 6,
     "metadata": {},
     "output_type": "execute_result"
    }
   ],
   "source": [
    "data.shape"
   ]
  },
  {
   "cell_type": "code",
   "execution_count": null,
   "metadata": {},
   "outputs": [],
   "source": []
  }
 ],
 "metadata": {
  "kernelspec": {
   "display_name": "Python 3",
   "language": "python",
   "name": "python3"
  },
  "language_info": {
   "codemirror_mode": {
    "name": "ipython",
    "version": 3
   },
   "file_extension": ".py",
   "mimetype": "text/x-python",
   "name": "python",
   "nbconvert_exporter": "python",
   "pygments_lexer": "ipython3",
   "version": "3.7.3"
  }
 },
 "nbformat": 4,
 "nbformat_minor": 2
}
